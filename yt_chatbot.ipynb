{
  "nbformat": 4,
  "nbformat_minor": 0,
  "metadata": {
    "colab": {
      "provenance": []
    },
    "kernelspec": {
      "name": "python3",
      "display_name": "Python 3"
    },
    "language_info": {
      "name": "python"
    }
  },
  "cells": [
    {
      "cell_type": "code",
      "execution_count": null,
      "metadata": {
        "id": "Zx51HW2izYU9"
      },
      "outputs": [],
      "source": [
        "import os\n",
        "os.environ[\"OPENAI_API_KEY\"]=\"\""
      ]
    },
    {
      "cell_type": "code",
      "source": [
        "!pip install youtube-transcript-api langchain-community langchain-openai faiss-cpu tiktoken python-dotenv"
      ],
      "metadata": {
        "colab": {
          "base_uri": "https://localhost:8080/"
        },
        "id": "JDdSUm8OzsuA",
        "outputId": "c1b7bf31-b8c7-4541-f9c8-765e0db8ea2e"
      },
      "execution_count": null,
      "outputs": [
        {
          "output_type": "stream",
          "name": "stdout",
          "text": [
            "Collecting youtube-transcript-api\n",
            "  Downloading youtube_transcript_api-1.2.2-py3-none-any.whl.metadata (24 kB)\n",
            "Collecting langchain-community\n",
            "  Downloading langchain_community-0.3.27-py3-none-any.whl.metadata (2.9 kB)\n",
            "Collecting langchain-openai\n",
            "  Downloading langchain_openai-0.3.30-py3-none-any.whl.metadata (2.4 kB)\n",
            "Collecting faiss-cpu\n",
            "  Downloading faiss_cpu-1.12.0-cp311-cp311-manylinux_2_27_x86_64.manylinux_2_28_x86_64.whl.metadata (5.1 kB)\n",
            "Requirement already satisfied: tiktoken in /usr/local/lib/python3.11/dist-packages (0.11.0)\n",
            "Collecting python-dotenv\n",
            "  Downloading python_dotenv-1.1.1-py3-none-any.whl.metadata (24 kB)\n",
            "Requirement already satisfied: defusedxml<0.8.0,>=0.7.1 in /usr/local/lib/python3.11/dist-packages (from youtube-transcript-api) (0.7.1)\n",
            "Requirement already satisfied: requests in /usr/local/lib/python3.11/dist-packages (from youtube-transcript-api) (2.32.3)\n",
            "Requirement already satisfied: langchain-core<1.0.0,>=0.3.66 in /usr/local/lib/python3.11/dist-packages (from langchain-community) (0.3.74)\n",
            "Requirement already satisfied: langchain<1.0.0,>=0.3.26 in /usr/local/lib/python3.11/dist-packages (from langchain-community) (0.3.27)\n",
            "Requirement already satisfied: SQLAlchemy<3,>=1.4 in /usr/local/lib/python3.11/dist-packages (from langchain-community) (2.0.43)\n",
            "Requirement already satisfied: PyYAML>=5.3 in /usr/local/lib/python3.11/dist-packages (from langchain-community) (6.0.2)\n",
            "Requirement already satisfied: aiohttp<4.0.0,>=3.8.3 in /usr/local/lib/python3.11/dist-packages (from langchain-community) (3.12.15)\n",
            "Requirement already satisfied: tenacity!=8.4.0,<10,>=8.1.0 in /usr/local/lib/python3.11/dist-packages (from langchain-community) (9.1.2)\n",
            "Collecting dataclasses-json<0.7,>=0.5.7 (from langchain-community)\n",
            "  Downloading dataclasses_json-0.6.7-py3-none-any.whl.metadata (25 kB)\n",
            "Collecting pydantic-settings<3.0.0,>=2.4.0 (from langchain-community)\n",
            "  Downloading pydantic_settings-2.10.1-py3-none-any.whl.metadata (3.4 kB)\n",
            "Requirement already satisfied: langsmith>=0.1.125 in /usr/local/lib/python3.11/dist-packages (from langchain-community) (0.4.14)\n",
            "Collecting httpx-sse<1.0.0,>=0.4.0 (from langchain-community)\n",
            "  Downloading httpx_sse-0.4.1-py3-none-any.whl.metadata (9.4 kB)\n",
            "Requirement already satisfied: numpy>=1.26.2 in /usr/local/lib/python3.11/dist-packages (from langchain-community) (2.0.2)\n",
            "Requirement already satisfied: openai<2.0.0,>=1.99.9 in /usr/local/lib/python3.11/dist-packages (from langchain-openai) (1.99.9)\n",
            "Requirement already satisfied: packaging in /usr/local/lib/python3.11/dist-packages (from faiss-cpu) (25.0)\n",
            "Requirement already satisfied: regex>=2022.1.18 in /usr/local/lib/python3.11/dist-packages (from tiktoken) (2024.11.6)\n",
            "Requirement already satisfied: aiohappyeyeballs>=2.5.0 in /usr/local/lib/python3.11/dist-packages (from aiohttp<4.0.0,>=3.8.3->langchain-community) (2.6.1)\n",
            "Requirement already satisfied: aiosignal>=1.4.0 in /usr/local/lib/python3.11/dist-packages (from aiohttp<4.0.0,>=3.8.3->langchain-community) (1.4.0)\n",
            "Requirement already satisfied: attrs>=17.3.0 in /usr/local/lib/python3.11/dist-packages (from aiohttp<4.0.0,>=3.8.3->langchain-community) (25.3.0)\n",
            "Requirement already satisfied: frozenlist>=1.1.1 in /usr/local/lib/python3.11/dist-packages (from aiohttp<4.0.0,>=3.8.3->langchain-community) (1.7.0)\n",
            "Requirement already satisfied: multidict<7.0,>=4.5 in /usr/local/lib/python3.11/dist-packages (from aiohttp<4.0.0,>=3.8.3->langchain-community) (6.6.4)\n",
            "Requirement already satisfied: propcache>=0.2.0 in /usr/local/lib/python3.11/dist-packages (from aiohttp<4.0.0,>=3.8.3->langchain-community) (0.3.2)\n",
            "Requirement already satisfied: yarl<2.0,>=1.17.0 in /usr/local/lib/python3.11/dist-packages (from aiohttp<4.0.0,>=3.8.3->langchain-community) (1.20.1)\n",
            "Collecting marshmallow<4.0.0,>=3.18.0 (from dataclasses-json<0.7,>=0.5.7->langchain-community)\n",
            "  Downloading marshmallow-3.26.1-py3-none-any.whl.metadata (7.3 kB)\n",
            "Collecting typing-inspect<1,>=0.4.0 (from dataclasses-json<0.7,>=0.5.7->langchain-community)\n",
            "  Downloading typing_inspect-0.9.0-py3-none-any.whl.metadata (1.5 kB)\n",
            "Requirement already satisfied: langchain-text-splitters<1.0.0,>=0.3.9 in /usr/local/lib/python3.11/dist-packages (from langchain<1.0.0,>=0.3.26->langchain-community) (0.3.9)\n",
            "Requirement already satisfied: pydantic<3.0.0,>=2.7.4 in /usr/local/lib/python3.11/dist-packages (from langchain<1.0.0,>=0.3.26->langchain-community) (2.11.7)\n",
            "Requirement already satisfied: jsonpatch<2.0,>=1.33 in /usr/local/lib/python3.11/dist-packages (from langchain-core<1.0.0,>=0.3.66->langchain-community) (1.33)\n",
            "Requirement already satisfied: typing-extensions>=4.7 in /usr/local/lib/python3.11/dist-packages (from langchain-core<1.0.0,>=0.3.66->langchain-community) (4.14.1)\n",
            "Requirement already satisfied: httpx<1,>=0.23.0 in /usr/local/lib/python3.11/dist-packages (from langsmith>=0.1.125->langchain-community) (0.28.1)\n",
            "Requirement already satisfied: orjson>=3.9.14 in /usr/local/lib/python3.11/dist-packages (from langsmith>=0.1.125->langchain-community) (3.11.2)\n",
            "Requirement already satisfied: requests-toolbelt>=1.0.0 in /usr/local/lib/python3.11/dist-packages (from langsmith>=0.1.125->langchain-community) (1.0.0)\n",
            "Requirement already satisfied: zstandard>=0.23.0 in /usr/local/lib/python3.11/dist-packages (from langsmith>=0.1.125->langchain-community) (0.23.0)\n",
            "Requirement already satisfied: anyio<5,>=3.5.0 in /usr/local/lib/python3.11/dist-packages (from openai<2.0.0,>=1.99.9->langchain-openai) (4.10.0)\n",
            "Requirement already satisfied: distro<2,>=1.7.0 in /usr/local/lib/python3.11/dist-packages (from openai<2.0.0,>=1.99.9->langchain-openai) (1.9.0)\n",
            "Requirement already satisfied: jiter<1,>=0.4.0 in /usr/local/lib/python3.11/dist-packages (from openai<2.0.0,>=1.99.9->langchain-openai) (0.10.0)\n",
            "Requirement already satisfied: sniffio in /usr/local/lib/python3.11/dist-packages (from openai<2.0.0,>=1.99.9->langchain-openai) (1.3.1)\n",
            "Requirement already satisfied: tqdm>4 in /usr/local/lib/python3.11/dist-packages (from openai<2.0.0,>=1.99.9->langchain-openai) (4.67.1)\n",
            "Requirement already satisfied: typing-inspection>=0.4.0 in /usr/local/lib/python3.11/dist-packages (from pydantic-settings<3.0.0,>=2.4.0->langchain-community) (0.4.1)\n",
            "Requirement already satisfied: charset-normalizer<4,>=2 in /usr/local/lib/python3.11/dist-packages (from requests->youtube-transcript-api) (3.4.3)\n",
            "Requirement already satisfied: idna<4,>=2.5 in /usr/local/lib/python3.11/dist-packages (from requests->youtube-transcript-api) (3.10)\n",
            "Requirement already satisfied: urllib3<3,>=1.21.1 in /usr/local/lib/python3.11/dist-packages (from requests->youtube-transcript-api) (2.5.0)\n",
            "Requirement already satisfied: certifi>=2017.4.17 in /usr/local/lib/python3.11/dist-packages (from requests->youtube-transcript-api) (2025.8.3)\n",
            "Requirement already satisfied: greenlet>=1 in /usr/local/lib/python3.11/dist-packages (from SQLAlchemy<3,>=1.4->langchain-community) (3.2.4)\n",
            "Requirement already satisfied: httpcore==1.* in /usr/local/lib/python3.11/dist-packages (from httpx<1,>=0.23.0->langsmith>=0.1.125->langchain-community) (1.0.9)\n",
            "Requirement already satisfied: h11>=0.16 in /usr/local/lib/python3.11/dist-packages (from httpcore==1.*->httpx<1,>=0.23.0->langsmith>=0.1.125->langchain-community) (0.16.0)\n",
            "Requirement already satisfied: jsonpointer>=1.9 in /usr/local/lib/python3.11/dist-packages (from jsonpatch<2.0,>=1.33->langchain-core<1.0.0,>=0.3.66->langchain-community) (3.0.0)\n",
            "Requirement already satisfied: annotated-types>=0.6.0 in /usr/local/lib/python3.11/dist-packages (from pydantic<3.0.0,>=2.7.4->langchain<1.0.0,>=0.3.26->langchain-community) (0.7.0)\n",
            "Requirement already satisfied: pydantic-core==2.33.2 in /usr/local/lib/python3.11/dist-packages (from pydantic<3.0.0,>=2.7.4->langchain<1.0.0,>=0.3.26->langchain-community) (2.33.2)\n",
            "Collecting mypy-extensions>=0.3.0 (from typing-inspect<1,>=0.4.0->dataclasses-json<0.7,>=0.5.7->langchain-community)\n",
            "  Downloading mypy_extensions-1.1.0-py3-none-any.whl.metadata (1.1 kB)\n",
            "Downloading youtube_transcript_api-1.2.2-py3-none-any.whl (485 kB)\n",
            "\u001b[2K   \u001b[90m━━━━━━━━━━━━━━━━━━━━━━━━━━━━━━━━━━━━━━━━\u001b[0m \u001b[32m485.0/485.0 kB\u001b[0m \u001b[31m32.1 MB/s\u001b[0m eta \u001b[36m0:00:00\u001b[0m\n",
            "\u001b[?25hDownloading langchain_community-0.3.27-py3-none-any.whl (2.5 MB)\n",
            "\u001b[2K   \u001b[90m━━━━━━━━━━━━━━━━━━━━━━━━━━━━━━━━━━━━━━━━\u001b[0m \u001b[32m2.5/2.5 MB\u001b[0m \u001b[31m67.6 MB/s\u001b[0m eta \u001b[36m0:00:00\u001b[0m\n",
            "\u001b[?25hDownloading langchain_openai-0.3.30-py3-none-any.whl (74 kB)\n",
            "\u001b[2K   \u001b[90m━━━━━━━━━━━━━━━━━━━━━━━━━━━━━━━━━━━━━━━━\u001b[0m \u001b[32m74.4/74.4 kB\u001b[0m \u001b[31m5.5 MB/s\u001b[0m eta \u001b[36m0:00:00\u001b[0m\n",
            "\u001b[?25hDownloading faiss_cpu-1.12.0-cp311-cp311-manylinux_2_27_x86_64.manylinux_2_28_x86_64.whl (31.4 MB)\n",
            "\u001b[2K   \u001b[90m━━━━━━━━━━━━━━━━━━━━━━━━━━━━━━━━━━━━━━━━\u001b[0m \u001b[32m31.4/31.4 MB\u001b[0m \u001b[31m58.4 MB/s\u001b[0m eta \u001b[36m0:00:00\u001b[0m\n",
            "\u001b[?25hDownloading python_dotenv-1.1.1-py3-none-any.whl (20 kB)\n",
            "Downloading dataclasses_json-0.6.7-py3-none-any.whl (28 kB)\n",
            "Downloading httpx_sse-0.4.1-py3-none-any.whl (8.1 kB)\n",
            "Downloading pydantic_settings-2.10.1-py3-none-any.whl (45 kB)\n",
            "\u001b[2K   \u001b[90m━━━━━━━━━━━━━━━━━━━━━━━━━━━━━━━━━━━━━━━━\u001b[0m \u001b[32m45.2/45.2 kB\u001b[0m \u001b[31m3.8 MB/s\u001b[0m eta \u001b[36m0:00:00\u001b[0m\n",
            "\u001b[?25hDownloading marshmallow-3.26.1-py3-none-any.whl (50 kB)\n",
            "\u001b[2K   \u001b[90m━━━━━━━━━━━━━━━━━━━━━━━━━━━━━━━━━━━━━━━━\u001b[0m \u001b[32m50.9/50.9 kB\u001b[0m \u001b[31m3.7 MB/s\u001b[0m eta \u001b[36m0:00:00\u001b[0m\n",
            "\u001b[?25hDownloading typing_inspect-0.9.0-py3-none-any.whl (8.8 kB)\n",
            "Downloading mypy_extensions-1.1.0-py3-none-any.whl (5.0 kB)\n",
            "Installing collected packages: python-dotenv, mypy-extensions, marshmallow, httpx-sse, faiss-cpu, youtube-transcript-api, typing-inspect, pydantic-settings, dataclasses-json, langchain-openai, langchain-community\n",
            "Successfully installed dataclasses-json-0.6.7 faiss-cpu-1.12.0 httpx-sse-0.4.1 langchain-community-0.3.27 langchain-openai-0.3.30 marshmallow-3.26.1 mypy-extensions-1.1.0 pydantic-settings-2.10.1 python-dotenv-1.1.1 typing-inspect-0.9.0 youtube-transcript-api-1.2.2\n"
          ]
        }
      ]
    },
    {
      "cell_type": "code",
      "source": [
        "from youtube_transcript_api import YouTubeTranscriptApi, TranscriptsDisabled\n",
        "from langchain.text_splitter import RecursiveCharacterTextSplitter\n",
        "from langchain_openai import OpenAIEmbeddings, ChatOpenAI\n",
        "from langchain_community.vectorstores import FAISS\n",
        "from langchain_core.prompts import PromptTemplate"
      ],
      "metadata": {
        "id": "cysjnR540TQS"
      },
      "execution_count": null,
      "outputs": []
    },
    {
      "cell_type": "markdown",
      "source": [
        "# Loading the data"
      ],
      "metadata": {
        "id": "H-qTqVSg49eO"
      }
    },
    {
      "cell_type": "code",
      "source": [
        "video_id = \"VvqEennLlU0\"\n",
        "try:\n",
        "   transcript_list =  YouTubeTranscriptApi().fetch(video_id=video_id, languages=[\"en\"])\n",
        "   transcript_raw = list(transcript_list.to_raw_data())\n",
        "   transcript =  \" \".join(item['text']for item in transcript_raw)\n",
        "   print(transcript)\n",
        "except TranscriptsDisabled:\n",
        "    print(\"No captions available for this video\")"
      ],
      "metadata": {
        "colab": {
          "base_uri": "https://localhost:8080/"
        },
        "id": "67TaJbm609v9",
        "outputId": "2b4c49ab-28cb-4860-b0d1-dfb9f34b851d"
      },
      "execution_count": null,
      "outputs": [
        {
          "output_type": "stream",
          "name": "stdout",
          "text": [
            "The fate of all tech companies will now be decided by their AI capabilities. Google CEO thinks that AI is >> the most profound technology humanity is working on, more profound than fire or electricity or anything that we have done in the past. >> Microsoft CEO said that with AI, we are going to go to the next level of abstraction. Zuckerberg's even spending billions poaching the best AI researchers to work on their own AI replacements. We are trying to build a coding agent that basically advances llama research specifically. I would guess that like sometime in the next 12 to 18 months, we'll reach the point where like most of the code that's going towards these efforts is written by AI. It's clear that big tech is having a competition over whose language model is the largest because the race to AGI will define everything in the future. They're so sure of this that these CEOs are now spending hundreds of billions building data centers and poaching top researchers all just to get a leg up in the race. And then you've got Apple. With OpenAI building Chad PT and Google working on Gemini, there was just silence from Apple. But seemingly for Apple's fans and especially for CEO Tim Cook, it was nothing to be worried about. While other tech companies scrambled to reach AGI, Apple took their time. Tim Cook hadn't grown Apple's value to over $3 trillion by rushing products out of the door. The playbook was to wait, see how the competition tried things and then to do it better. Lots of people expected it would be the same with AI. Ever since Chat GPT went mainstream in 2023, Apple fans had been patiently waiting for their take on the new technology. Google, Microsoft, everybody was jumping in on this. And so the first opportunity Apple had was at WWDC 2023. Their annual software expo turned generalpurpose hype generator. Modern generative AI hadn't been out for very long, but people were still hopeful. Surely Apple had been ahead of the curve. But fans just got the yearly iOS update and news on the new M2 chip, but nothing about AI, which was quite surprising. Instead, the big reveal was just this random Apple Vision Pro. It was new and cool technology, but it wasn't AI. One of the most important technologies in the world right now. The thing that's going to change society forever. And so, the next year came and went. And whilst the craze around AI showed no signs of dying down with AGI looming over the corner, Apple's lips remain sealed. By 2024, Apple fans were desperate just for a crumb of AI from Apple. But was Apple going to deliver or just delay it yet again for another year? The presentation started out as usual. After a cute little intro video, Apple's various executives went through the motions of talking about each Apple product they had been working on. First, it was the Vision Pro and the Vision OS. There were updates to iOS as well as Mac OS, iPad OS, Watch OS, and every OS under the sun, but no single mention of AI. Just as the presentation felt like it was coming to an end, Tim Cook walked on screen surrounded by implanted trees and perfect shrubbery of Apple's Circular HQ. He finally began to talk about AI. In fact, it wasn't just AI anymore. It was going to be Apple intelligence. The feature list was impressive to say the least. There were AI assisted writing tools and audio transcription, new emojis that AI makes for you. AI photo editing tools, AI image creation software. AI could even summarize your notifications for you. If you got a long paragraph from your boss or partner, AI could just pick out the important bits and get rid of the rest. AI could even look at a picture of something from your camera and tell you about it, a feature that Apple called visual intelligence. It was all amazing, new, innovative stuff, but the only thing on everyone's mind was the crowning jewel of the presentation, a whole new AI powered Siri. This was a key thing, as we've seen with Johnny IV, the guy who designed the iPhone, joining Samman at Open AI, or to integrate their AI into physical products. Everybody was expecting Apple to make a comeback and really compete in the AI race, especially because since 2010, Siri felt like the future. But once the novelty quickly wore off, people realized it was just far easier to do it yourself. And after nearly 15 years, it's barely improved at all. Siri still struggles with basic tasks, and it can barely understand what people even say. That was until now. The key was integration speed and reliability, letting it do things like this, as shown in one of Apple's biggest commercials. >> Siri, what's the name of the guy I had a meeting with a couple of months ago at Cafe Grenell? >> You met Zack Wingate at Cafe Grenell. It wasn't the only feature they promised, though. Need to find an address someone sent you without scrolling back through the messages? Siri had the answer. Need to reach into your phone and find some old documents or details from years ago? Siri would know how to navigate through it all, down to the names of people in your photos. New contextual awareness meant that Siri was going to be like an actual person inside of your phone who would understand any question you asked it. Even if it didn't have the answer, it could just pass it on to Chat GBT instead. all securely and without sharing your data. Of course, people were hyped up. Apple had promised their loyal fans the world. They weren't going to let them down, right? Apple even made it the biggest selling point of their next line of phones. Only the previous years as pros models in the iPhone 16 series would have Apple intelligence, and Apple's built an entire brand on trust and loyalty. And the best part was fans didn't have to wait long. The conference was in June, and they had seen it all working right in front of their eyes. The release date was just a few months later in October. So, how did it go? You know how Siri used to make life easier by doing the heavy lifting for Apple users? Well, video AI is doing the exact same thing for video creation. It's like having a virtual production studio in your browser. No cameras, no crew, no editing timeline. Just your idea and a text prompt. Just type in what you want to make a video about and video AI transforms it into a fulllength piece of content. >> Imagine having a personal assistant who can understand your emotions. >> It's that easy. And yes, it's game-changing. With no timelines, no learning curve, you get a fulllength video in minutes. You can clone your voice or edit the video with simple text commands like make it feel more dystopian. It isn't here to compete with human intelligence, but to complement it as your creative partner. AI might seem like a threat, but when used right, it gives you more space to focus on the parts of content creation you truly enjoy. AI isn't here to replace creators. It's here to empower them in meaningful, practical ways and start turning your ideas into stunning videos today. First, you've got the things they actually delivered in time for release. Photo cleanup and audio transcription from notes worked most of the time. There were the writing tools and visual intelligence, but these were things people had already seen from other companies. In fact, visual intelligence actually used Google and chatg to function at all. Literally one of Apple's main competitors. But lots of other features were just simply missing. Genoji and Image Creator would only release in December of that year. Priority notifications was even slower. finally releasing in March of 2025. Then you had the related notification summaries. They were in there from the start, but they were also hilariously broken. Millions of people using the new feature received this notification from Apple News shortly after launch. And it wasn't the only case. Apple disabled the feature shortly afterwards. But all of that was just water under the bridge as long as AI Siri worked. But that feature, the one that so many commercials had leaned on that they had used to sell millions of iPhones, just seemingly was nowhere to be found. Almost insultingly, the only part of it they had released was the colorful redesign for activating it. All of the looks with absolutely none of the substance. Apple Intelligence boiled down to a few tired features other companies had done so much better. Improved series still hasn't even been released today with Apple now saying they're hoping for a 2027 roll out. All in all, the release was an unmititigated disaster. The shareholders even sued and Apple's loyal fans felt the sting of betrayal. iPhone 16 users who had shelled out hundreds or even thousands for Apple intelligence were left with pretty much nothing. The iPhone 15 was almost exactly the same as the iPhone 16. This was Apple, one of the most trusted companies in the world with one of the best reputations and amazing products. And now they're just rushing things out of the door with barely any of it working just for a quick buck. For lots of Apple's more casual fans, it was completely unexpected. But for people paying attention, this was yet another chapter in a very long book of disappointment. And to uncover what was behind the blunder, we really need to go into how Apple has changed over the past decade and a half. Now, it's really impossible to overstate how much Steve Jobs and his legacy have done for Apple. Years and years later, it still feels like the company exists in his long shadow. But their next CEO, Tim Cook, has arguably done a lot more for Apple's shareholders. You see, Steve Jobs laid out the groundwork. He did all the hard part. He created the amazing products, worked insane magic for the brand's reputation, and laid the perfect groundwork for Tim Cook to scale. And since he took over, Apple's valuation has soared from 300 billion to $3 trillion, allowing Apple to become the largest company in the world, only recently losing the title to Nvidia in 2024 due to AI. Despite all the mistakes and the blunders that we're about to talk about, Tim Cook's position was never really in question. He knew exactly how to keep Apple on top, and that was by squeezing as much money out of Apple's customer base as humanly possible. Lots of these methods will be pretty familiar, but it still boggles the mind just how far Apple has gone with them. First, there's ted pricing and upselling. Before Tim took over, iPhones pretty much just had one yearly model. The last iPhone released under Steve Jobs was the iPhone 4S. It was the only iPhone they released that year, and it was a direct upgrade from the previous one. Under Steve Jobs, it was always like this. one phone a year, there was a direct upgrade with new features. A couple years later, Tim began experimenting with the tiered pricing model by releasing both the iPhone 5S and the cheaper 5C. This was on top of the fact that they already charged for extra storage. And this was an amazing success financially for Apple. So, over time, Tim Cook would steadily add more versions to iPhone releases until you get the most recent release with the iPhone 16. Now we get two models, the base version and the Pro, each with their own Max version as well if you want a slightly larger screen. The prices have gone up as well. Articles from the time show that iPhone prices were generally in line with other flagship phones at the time. Today, iPhones are at least a couple hundred more than their competitors. And as we mentioned in this video before about the iPhone 16, it's often just overpriced with no real new features. This is especially the case if you get the Pearl of the Max as you're paying almost double the initial price for not that much more. But this also revealed another tactic that Tim has put into place, planned obsolescence. Now, people imagine this term as making a product that just breaks after a certain amount of time. While that might still be true, it's far more lucrative to get people to buy another one in other more subtle ways. Take the storage issue on a phone. If you needed more storage, then you would just add an SD card. only. You can't do this with an iPhone. Apple never added the slots. In fact, with their other products, Apple have gone out of their way to make it almost impossible to upgrade storage. In 2012, Apple started soldering the RAM into place on their MacBook Pros. And in 2016, they started doing the same with their storage as well. Funny enough, these are the major upselling pressure points. The so-called cheapest 14-inch MacBook Pro is $1,600 on Apple's website, and the most expensive model is $400 extra, and it's pretty much identical. identical except for the fact that it comes with 500 extra GB of storage and 8 GB more of RAM. The very same upgrades that would cost around 50 bucks for a PC depending on price fluctuations. Apple has pushed their pricing as far as it can go. Why include the headphones in the box when you can just take them out and charge hundreds of dollars more as extras. Tim Cook made this tactic into an art form, really taking Steve's job simplicity mindset to a whole other level. In 2019, Apple released a $1,000 monitor stand to go along with their $5,000 computer monitor. Even the stacked audience at their reveal event didn't like this one. >> Mount adapter will be $1.99 and the Pro stand $9.99. And like the Mac Pro, they'll all be available in this in the fall. >> It's peak Apple pricing. Something so absurd you wouldn't even believe it if it wasn't true. Yet, even with all of this, Apple has been growing other areas of revenue far more than their products. As you see, a massive amount of Apple's revenue now comes from services, not their products. It isn't just their actual subscription services like Apple TV Plus either. Apple makes tons of money from their strange system of insurance subscriptions. Apple Care can give you insurance for your Apple devices. You're actually likely to need it as well, considering how hard they make it to repair their products yourself. But even if you pay the subscription fee, which isn't cheap at all, it doesn't cover everything. Another sneaky source of income has been the App Store. Before 2020, Apple used to charge a flat 30% commission on any transaction made through an app on iOS. Lots of companies just passed it on to the consumer. Patreon subscriptions, for example, were just more expensive through iOS. But Epic Games, who were shelling out millions and millions to Apple from inapp purchases in Fortnite, weren't happy about this. So much so, they sued Apple for what they saw as monopolistic practices. But after years in the courts, Apple won most of the case. They could still charge their commission, and it was all over, right? Well, not exactly. The only caveat was that Apple had to let apps direct people to outside payment services which Apple couldn't take a cut from. Obviously, they didn't want that, so they stood in the way as much as possible. If an app tried to send people somewhere else to pay, Apple would throw up this scary message warning people about security. They also kept charging a commission, although this time it was just 27% instead of 30. Eventually, in 2025, years after the whole battle had begun, this too got brought up in court. Judges weren't too happy about Apple just sidest stepping their orders, forcing them to drop the 27% charge as well. This loss of future revenue has hit Apple hard, but compared to some of their other problems, it barely scratches the surface. Quite early on in Tim Cook's time as CEO, people began talking about whether he might take over one of Steve Jobs forgotten projects, the Apple car. For most of the 2010s, Apple under Tim Cook flirted with the idea of getting into the automotive industry. If they can make the first real self-driving car, Apple would corner another market potentially for decades to come. It was a big dream though, and at first it didn't go very well. In the early 2010s, Apple discussed various deals with car companies only to back out of all of them later on. Rumors were flying, but Apple never announced any progress themselves. It was clear they were still interested, though, and by 2015, Tim decided they could just do it themselves. He started pouring billions into the research, hiring over a thousand engineers to work on the project. And 2016 saw Apple rehire a retired executive to try and kick things into shape with more layoffs and new hires. But then it just went all quiet again. A 2017 report from the New York Times even said that Apple had given up. But later that year, Tim Cook announced that they were in fact still building an autonomous car. By 2018, Apple registered some self-driving cars with the California regulators. They were even testing them out on the roads, but a natural product release was still years away. A 2020 report from Reuters estimated the release date at 2024, but then things just went quiet again, this time for years. It wasn't until 2022 that we really heard anything again. This time, Bloomberg reported that Apple was delaying it again until 2026 and that the car would only go on the highways. Now, 2 years later, and even that was wor in an internal memo, Apple canled the project entirely. The remaining staff working on it were laid off and the whole thing was just shelved indefinitely. Dead companies are obviously no strangers to burning money. Just ask Zuckerberg how his metaverse is coming along. But some reports say Apple spent over 10 billion on the Apple car only to end up with just nothing. And it really puts things into focus. The whole mess sheds light on how Tim Cook has run Apple since becoming CEO over a decade ago. Instead of a unified vision for the future, it's all become too large for him to control. He's been great at extracting value from customers. He's the best in the business of that and it's made his shareholders very happy. But Lee reports and the evidence we've seen paints a picture of a man who's lost control of his company. It especially comes into focus with how badly they botched some of their recent releases. The Vision Pro is an easy example as well. These massively overpriced goggles don't really offer anything in the long term to the average consumer, even if they could afford them. They were never meant to be a mass market product, more of a tech demo for the future possibilities of the product. Even with Apple's signature touch, there were clearly lots of problems to iron out. The biggest is that most people can't wear it for more than half an hour before they feel physically sick or exhausted. Batteries are a huge problem with this as well. Either you just plug it in, wear a charger backpack, or lose all the functionality when you throttle the power usage. And with AI taking center stage as well, and with Ray-B band meta glasses, it's just a product that's very easy for people to forget about. And it all makes you ask, what's really going on within Apple? Well, we know a few of the details and they aren't pretty. A report on Apple's internal workings has shown the world that things have been dysfunctional within Apple for years. For Steve Jobs, Siri was one of his last pet projects. Ever since he saw and bought the company behind the earliest version of Siri, he had believed it was an integral part of the future of the company. Under Tim Cook, Siri was first worked on by Apple's AI team. An executive called Robbie Walker ran the day-to-day. And according to insiders, he put much less pressure on the team compared to other parts of Apple. Under him, development crawled along at snail's pace. Sometimes it would change hands. Apparently, the software development team also had a go at working on Siri at some point. But despite this team's reputation as harsh task masters, it doesn't seem like they had any time to make a difference. And as the AI revolution is unfolding in front of our eyes, years of inaction has blown up in Apple's faces. What could have been the future of Siri, which they had ignored for years, was making other companies billions. Apple clearly needed to get ahead in the AI game. But the company was and still is so fractured that they haven't gotten anywhere. At WWDC 2024, when Apple showed off all the new features that Siri would apparently have, it surprised the world. Apple intelligence will enable your iPhone, iPad, and Mac to understand and create language as well as images and take action for you to simplify interactions across your apps. But apparently nobody was more surprised than the engineers actually working on Siri. Lots of series AI intelligence was completely faked. Apple has been doing this for years, but it's a real problem when they can't deliver the real thing later on. The engineers actually making a smarter Siri weren't anywhere near finished. They hadn't even tested it yet. There it was front and center of the marketing material. Release was just 2 months away, and they knew they had pretty much nothing. Owing to this disaster, the software team are now back in control. But Apple has a long way to go before their AI team is competitive again. And it might actually be too late as lots of other companies have been pouring all of their income into AI. It's now just common for tech companies to poach the smartest engineers and the most effective executives from each other, often using hund00 million pay packages as bait, especially when it comes to AI researchers. And Apple has lost lots of its key engineers just recently as Meta Post two of their best and brightest minds after stealing their boss. It's clear that Apple is absolutely floundering with AI. Lots of people thought their reliance on chatbt was going to be a stop gap, something to tide them over until they came up with their own AI. But recent adverts from Apple show that this might just be part of their long-term strategy at this point. Elon Musk threatening to sue Apple over the tech giant's app store ranking for Gro AI chatbot versus OpenAI's chat GPT. Now, and it's this kind of reliance that's going to be crippling for Apple in the future and can actually kill the company as it will undermine all of their AI strategy. The more they use Open AI and Microsoft services in their phones, the less important Apple intelligence seems to their customers. And that's when they start losing control of their crown jewel iOS. Even now, they're advertising their product as a way to use someone else's service. And today, Apple Intelligence is next to useless for the average user. And it doesn't seem like that's going to change anytime soon. People bought the iPhone 16 specifically for Apple Intelligence. And even with the 17 on the horizon, it still hasn't really released yet. And the question is, how long is it going to be until people just switch to a phone, computer, or tablet actually made by the AI company whose software they use? Already, Johnny Iv is making the stuff open AI. And that's just one relatively small company in the tech space. All of this points to Apple as a company that's good at extracting value from his customers today, but not much else. Now, with everyone banking on AI, Apple is too far behind to ever compete. Years of stagnation have left them unprepared to deal with this and the company is so internally divided that change comes very slowly anyway. Even Apple's most ardent critics shouldn't wish for their demise though. It's good for the ecosystem to have more competitors and different options and losing their customer base and having to work for them again would probably help the company in the long run anyway.\n"
          ]
        }
      ]
    },
    {
      "cell_type": "code",
      "source": [
        "print(type(transcript))"
      ],
      "metadata": {
        "colab": {
          "base_uri": "https://localhost:8080/"
        },
        "id": "0jGf_MKq5sdO",
        "outputId": "54aef0e4-183d-40dc-ce3a-4dbcfbc2de8f"
      },
      "execution_count": null,
      "outputs": [
        {
          "output_type": "stream",
          "name": "stdout",
          "text": [
            "<class 'str'>\n"
          ]
        }
      ]
    },
    {
      "cell_type": "markdown",
      "source": [
        "Text splitting"
      ],
      "metadata": {
        "id": "1pxP8A_75EqK"
      }
    },
    {
      "cell_type": "code",
      "source": [
        "splitter =  RecursiveCharacterTextSplitter(chunk_size=1000, chunk_overlap=200)\n",
        "chunks =  splitter.create_documents([transcript])"
      ],
      "metadata": {
        "id": "WVxlLHSZ5C7N"
      },
      "execution_count": null,
      "outputs": []
    },
    {
      "cell_type": "code",
      "source": [
        "type(chunks)"
      ],
      "metadata": {
        "colab": {
          "base_uri": "https://localhost:8080/"
        },
        "id": "GxbE0kWo7-R_",
        "outputId": "e64d7f2b-c180-4842-8e97-818157614810"
      },
      "execution_count": null,
      "outputs": [
        {
          "output_type": "execute_result",
          "data": {
            "text/plain": [
              "list"
            ]
          },
          "metadata": {},
          "execution_count": 7
        }
      ]
    },
    {
      "cell_type": "code",
      "source": [
        "print(chunks)"
      ],
      "metadata": {
        "colab": {
          "base_uri": "https://localhost:8080/"
        },
        "id": "sq9Mfk6s6wlT",
        "outputId": "625c60a3-84b5-476b-f3ae-676e78ea15d3"
      },
      "execution_count": null,
      "outputs": [
        {
          "output_type": "stream",
          "name": "stdout",
          "text": [
            "[Document(metadata={}, page_content=\"The fate of all tech companies will now be decided by their AI capabilities. Google CEO thinks that AI is the most profound technology humanity is working on, more profound than fire or electricity or anything that we have done in the past. Microsoft CEO said that with AI, we are going to go to the next level of abstraction. Zuckerberg's even spending billions poaching the best AI researchers to work on their own AI replacements. We are trying to build a coding agent that basically advances llama research specifically. I would guess that like sometime in the next 12 to 18 months, we'll reach the point where like most of the code that's going towards these efforts is written by AI. It's clear that big tech is having a competition over whose language model is the largest because the race to AGI will define everything in the future. They're so sure of this that these CEOs are now spending hundreds of billions building data centers and poaching top researchers all just to get a leg up in\"), Document(metadata={}, page_content=\"AGI will define everything in the future. They're so sure of this that these CEOs are now spending hundreds of billions building data centers and poaching top researchers all just to get a leg up in the race. And then you've got Apple. With OpenAI building Chad PT and Google working on Gemini, there was just silence from Apple. But seemingly for Apple's fans and especially for CEO Tim Cook, it was nothing to be worried about. While other tech companies scrambled to reach AGI, Apple took their time. Tim Cook hadn't grown Apple's value to over $3 trillion by rushing products out of the door. The playbook was to wait, see how the competition tried things and then to do it better. Lots of people expected it would be the same with AI. Ever since Chat GPT went mainstream in 2023, Apple fans had been patiently waiting for their take on the new technology. Google, Microsoft, everybody was jumping in on this. And so the first opportunity Apple had was at WWDC 2023. Their annual software expo\"), Document(metadata={}, page_content=\"been patiently waiting for their take on the new technology. Google, Microsoft, everybody was jumping in on this. And so the first opportunity Apple had was at WWDC 2023. Their annual software expo turned generalpurpose hype generator. Modern generative AI hadn't been out for very long, but people were still hopeful. Surely Apple had been ahead of the curve. But fans just got the yearly iOS update and news on the new M2 chip, but nothing about AI, which was quite surprising. Instead, the big reveal was just this random Apple Vision Pro. It was new and cool technology, but it wasn't AI. One of the most important technologies in the world right now. The thing that's going to change society forever. And so, the next year came and went. And whilst the craze around AI showed no signs of dying down with AGI looming over the corner, Apple's lips remain sealed. By 2024, Apple fans were desperate just for a crumb of AI from Apple. But was Apple going to deliver or just delay it yet again for\"), Document(metadata={}, page_content=\"down with AGI looming over the corner, Apple's lips remain sealed. By 2024, Apple fans were desperate just for a crumb of AI from Apple. But was Apple going to deliver or just delay it yet again for another year? The presentation started out as usual. After a cute little intro video, Apple's various executives went through the motions of talking about each Apple product they had been working on. First, it was the Vision Pro and the Vision OS. There were updates to iOS as well as Mac OS, iPad OS, Watch OS, and every OS under the sun, but no single mention of AI. Just as the presentation felt like it was coming to an end, Tim Cook walked on screen surrounded by implanted trees and perfect shrubbery of Apple's Circular HQ. He finally began to talk about AI. In fact, it wasn't just AI anymore. It was going to be Apple intelligence. The feature list was impressive to say the least. There were AI assisted writing tools and audio transcription, new emojis that AI makes for you. AI photo\"), Document(metadata={}, page_content=\"It was going to be Apple intelligence. The feature list was impressive to say the least. There were AI assisted writing tools and audio transcription, new emojis that AI makes for you. AI photo editing tools, AI image creation software. AI could even summarize your notifications for you. If you got a long paragraph from your boss or partner, AI could just pick out the important bits and get rid of the rest. AI could even look at a picture of something from your camera and tell you about it, a feature that Apple called visual intelligence. It was all amazing, new, innovative stuff, but the only thing on everyone's mind was the crowning jewel of the presentation, a whole new AI powered Siri. This was a key thing, as we've seen with Johnny IV, the guy who designed the iPhone, joining Samman at Open AI, or to integrate their AI into physical products. Everybody was expecting Apple to make a comeback and really compete in the AI race, especially because since 2010, Siri felt like the\"), Document(metadata={}, page_content=\"at Open AI, or to integrate their AI into physical products. Everybody was expecting Apple to make a comeback and really compete in the AI race, especially because since 2010, Siri felt like the future. But once the novelty quickly wore off, people realized it was just far easier to do it yourself. And after nearly 15 years, it's barely improved at all. Siri still struggles with basic tasks, and it can barely understand what people even say. That was until now. The key was integration speed and reliability, letting it do things like this, as shown in one of Apple's biggest commercials. Siri, what's the name of the guy I had a meeting with a couple of months ago at Cafe Grenell? You met Zack Wingate at Cafe Grenell. It wasn't the only feature they promised, though. Need to find an address someone sent you without scrolling back through the messages? Siri had the answer. Need to reach into your phone and find some old documents or details from years ago? Siri would know how to navigate\"), Document(metadata={}, page_content=\"someone sent you without scrolling back through the messages? Siri had the answer. Need to reach into your phone and find some old documents or details from years ago? Siri would know how to navigate through it all, down to the names of people in your photos. New contextual awareness meant that Siri was going to be like an actual person inside of your phone who would understand any question you asked it. Even if it didn't have the answer, it could just pass it on to Chat GBT instead. all securely and without sharing your data. Of course, people were hyped up. Apple had promised their loyal fans the world. They weren't going to let them down, right? Apple even made it the biggest selling point of their next line of phones. Only the previous years as pros models in the iPhone 16 series would have Apple intelligence, and Apple's built an entire brand on trust and loyalty. And the best part was fans didn't have to wait long. The conference was in June, and they had seen it all working\"), Document(metadata={}, page_content=\"have Apple intelligence, and Apple's built an entire brand on trust and loyalty. And the best part was fans didn't have to wait long. The conference was in June, and they had seen it all working right in front of their eyes. The release date was just a few months later in October. So, how did it go? You know how Siri used to make life easier by doing the heavy lifting for Apple users? Well, video AI is doing the exact same thing for video creation. It's like having a virtual production studio in your browser. No cameras, no crew, no editing timeline. Just your idea and a text prompt. Just type in what you want to make a video about and video AI transforms it into a fulllength piece of content. Imagine having a personal assistant who can understand your emotions. It's that easy. And yes, it's game-changing. With no timelines, no learning curve, you get a fulllength video in minutes. You can clone your voice or edit the video with simple text commands like make it feel more dystopian.\"), Document(metadata={}, page_content=\"it's game-changing. With no timelines, no learning curve, you get a fulllength video in minutes. You can clone your voice or edit the video with simple text commands like make it feel more dystopian. It isn't here to compete with human intelligence, but to complement it as your creative partner. AI might seem like a threat, but when used right, it gives you more space to focus on the parts of content creation you truly enjoy. AI isn't here to replace creators. It's here to empower them in meaningful, practical ways and start turning your ideas into stunning videos today. First, you've got the things they actually delivered in time for release. Photo cleanup and audio transcription from notes worked most of the time. There were the writing tools and visual intelligence, but these were things people had already seen from other companies. In fact, visual intelligence actually used Google and chatg to function at all. Literally one of Apple's main competitors. But lots of other features\"), Document(metadata={}, page_content=\"people had already seen from other companies. In fact, visual intelligence actually used Google and chatg to function at all. Literally one of Apple's main competitors. But lots of other features were just simply missing. Genoji and Image Creator would only release in December of that year. Priority notifications was even slower. finally releasing in March of 2025. Then you had the related notification summaries. They were in there from the start, but they were also hilariously broken. Millions of people using the new feature received this notification from Apple News shortly after launch. And it wasn't the only case. Apple disabled the feature shortly afterwards. But all of that was just water under the bridge as long as AI Siri worked. But that feature, the one that so many commercials had leaned on that they had used to sell millions of iPhones, just seemingly was nowhere to be found. Almost insultingly, the only part of it they had released was the colorful redesign for activating\"), Document(metadata={}, page_content=\"leaned on that they had used to sell millions of iPhones, just seemingly was nowhere to be found. Almost insultingly, the only part of it they had released was the colorful redesign for activating it. All of the looks with absolutely none of the substance. Apple Intelligence boiled down to a few tired features other companies had done so much better. Improved series still hasn't even been released today with Apple now saying they're hoping for a 2027 roll out. All in all, the release was an unmititigated disaster. The shareholders even sued and Apple's loyal fans felt the sting of betrayal. iPhone 16 users who had shelled out hundreds or even thousands for Apple intelligence were left with pretty much nothing. The iPhone 15 was almost exactly the same as the iPhone 16. This was Apple, one of the most trusted companies in the world with one of the best reputations and amazing products. And now they're just rushing things out of the door with barely any of it working just for a quick\"), Document(metadata={}, page_content=\"of the most trusted companies in the world with one of the best reputations and amazing products. And now they're just rushing things out of the door with barely any of it working just for a quick buck. For lots of Apple's more casual fans, it was completely unexpected. But for people paying attention, this was yet another chapter in a very long book of disappointment. And to uncover what was behind the blunder, we really need to go into how Apple has changed over the past decade and a half. Now, it's really impossible to overstate how much Steve Jobs and his legacy have done for Apple. Years and years later, it still feels like the company exists in his long shadow. But their next CEO, Tim Cook, has arguably done a lot more for Apple's shareholders. You see, Steve Jobs laid out the groundwork. He did all the hard part. He created the amazing products, worked insane magic for the brand's reputation, and laid the perfect groundwork for Tim Cook to scale. And since he took over, Apple's\"), Document(metadata={}, page_content=\"He did all the hard part. He created the amazing products, worked insane magic for the brand's reputation, and laid the perfect groundwork for Tim Cook to scale. And since he took over, Apple's valuation has soared from 300 billion to $3 trillion, allowing Apple to become the largest company in the world, only recently losing the title to Nvidia in 2024 due to AI. Despite all the mistakes and the blunders that we're about to talk about, Tim Cook's position was never really in question. He knew exactly how to keep Apple on top, and that was by squeezing as much money out of Apple's customer base as humanly possible. Lots of these methods will be pretty familiar, but it still boggles the mind just how far Apple has gone with them. First, there's ted pricing and upselling. Before Tim took over, iPhones pretty much just had one yearly model. The last iPhone released under Steve Jobs was the iPhone 4S. It was the only iPhone they released that year, and it was a direct upgrade from the\"), Document(metadata={}, page_content='over, iPhones pretty much just had one yearly model. The last iPhone released under Steve Jobs was the iPhone 4S. It was the only iPhone they released that year, and it was a direct upgrade from the previous one. Under Steve Jobs, it was always like this. one phone a year, there was a direct upgrade with new features. A couple years later, Tim began experimenting with the tiered pricing model by releasing both the iPhone 5S and the cheaper 5C. This was on top of the fact that they already charged for extra storage. And this was an amazing success financially for Apple. So, over time, Tim Cook would steadily add more versions to iPhone releases until you get the most recent release with the iPhone 16. Now we get two models, the base version and the Pro, each with their own Max version as well if you want a slightly larger screen. The prices have gone up as well. Articles from the time show that iPhone prices were generally in line with other flagship phones at the time. Today, iPhones'), Document(metadata={}, page_content=\"if you want a slightly larger screen. The prices have gone up as well. Articles from the time show that iPhone prices were generally in line with other flagship phones at the time. Today, iPhones are at least a couple hundred more than their competitors. And as we mentioned in this video before about the iPhone 16, it's often just overpriced with no real new features. This is especially the case if you get the Pearl of the Max as you're paying almost double the initial price for not that much more. But this also revealed another tactic that Tim has put into place, planned obsolescence. Now, people imagine this term as making a product that just breaks after a certain amount of time. While that might still be true, it's far more lucrative to get people to buy another one in other more subtle ways. Take the storage issue on a phone. If you needed more storage, then you would just add an SD card. only. You can't do this with an iPhone. Apple never added the slots. In fact, with their\"), Document(metadata={}, page_content=\"ways. Take the storage issue on a phone. If you needed more storage, then you would just add an SD card. only. You can't do this with an iPhone. Apple never added the slots. In fact, with their other products, Apple have gone out of their way to make it almost impossible to upgrade storage. In 2012, Apple started soldering the RAM into place on their MacBook Pros. And in 2016, they started doing the same with their storage as well. Funny enough, these are the major upselling pressure points. The so-called cheapest 14-inch MacBook Pro is $1,600 on Apple's website, and the most expensive model is $400 extra, and it's pretty much identical. identical except for the fact that it comes with 500 extra GB of storage and 8 GB more of RAM. The very same upgrades that would cost around 50 bucks for a PC depending on price fluctuations. Apple has pushed their pricing as far as it can go. Why include the headphones in the box when you can just take them out and charge hundreds of dollars more as\"), Document(metadata={}, page_content=\"a PC depending on price fluctuations. Apple has pushed their pricing as far as it can go. Why include the headphones in the box when you can just take them out and charge hundreds of dollars more as extras. Tim Cook made this tactic into an art form, really taking Steve's job simplicity mindset to a whole other level. In 2019, Apple released a $1,000 monitor stand to go along with their $5,000 computer monitor. Even the stacked audience at their reveal event didn't like this one. Mount adapter will be $1.99 and the Pro stand $9.99. And like the Mac Pro, they'll all be available in this in the fall. It's peak Apple pricing. Something so absurd you wouldn't even believe it if it wasn't true. Yet, even with all of this, Apple has been growing other areas of revenue far more than their products. As you see, a massive amount of Apple's revenue now comes from services, not their products. It isn't just their actual subscription services like Apple TV Plus either. Apple makes tons of money\"), Document(metadata={}, page_content=\"As you see, a massive amount of Apple's revenue now comes from services, not their products. It isn't just their actual subscription services like Apple TV Plus either. Apple makes tons of money from their strange system of insurance subscriptions. Apple Care can give you insurance for your Apple devices. You're actually likely to need it as well, considering how hard they make it to repair their products yourself. But even if you pay the subscription fee, which isn't cheap at all, it doesn't cover everything. Another sneaky source of income has been the App Store. Before 2020, Apple used to charge a flat 30% commission on any transaction made through an app on iOS. Lots of companies just passed it on to the consumer. Patreon subscriptions, for example, were just more expensive through iOS. But Epic Games, who were shelling out millions and millions to Apple from inapp purchases in Fortnite, weren't happy about this. So much so, they sued Apple for what they saw as monopolistic\"), Document(metadata={}, page_content=\"iOS. But Epic Games, who were shelling out millions and millions to Apple from inapp purchases in Fortnite, weren't happy about this. So much so, they sued Apple for what they saw as monopolistic practices. But after years in the courts, Apple won most of the case. They could still charge their commission, and it was all over, right? Well, not exactly. The only caveat was that Apple had to let apps direct people to outside payment services which Apple couldn't take a cut from. Obviously, they didn't want that, so they stood in the way as much as possible. If an app tried to send people somewhere else to pay, Apple would throw up this scary message warning people about security. They also kept charging a commission, although this time it was just 27% instead of 30. Eventually, in 2025, years after the whole battle had begun, this too got brought up in court. Judges weren't too happy about Apple just sidest stepping their orders, forcing them to drop the 27% charge as well. This loss of\"), Document(metadata={}, page_content=\"after the whole battle had begun, this too got brought up in court. Judges weren't too happy about Apple just sidest stepping their orders, forcing them to drop the 27% charge as well. This loss of future revenue has hit Apple hard, but compared to some of their other problems, it barely scratches the surface. Quite early on in Tim Cook's time as CEO, people began talking about whether he might take over one of Steve Jobs forgotten projects, the Apple car. For most of the 2010s, Apple under Tim Cook flirted with the idea of getting into the automotive industry. If they can make the first real self-driving car, Apple would corner another market potentially for decades to come. It was a big dream though, and at first it didn't go very well. In the early 2010s, Apple discussed various deals with car companies only to back out of all of them later on. Rumors were flying, but Apple never announced any progress themselves. It was clear they were still interested, though, and by 2015, Tim\"), Document(metadata={}, page_content=\"with car companies only to back out of all of them later on. Rumors were flying, but Apple never announced any progress themselves. It was clear they were still interested, though, and by 2015, Tim decided they could just do it themselves. He started pouring billions into the research, hiring over a thousand engineers to work on the project. And 2016 saw Apple rehire a retired executive to try and kick things into shape with more layoffs and new hires. But then it just went all quiet again. A 2017 report from the New York Times even said that Apple had given up. But later that year, Tim Cook announced that they were in fact still building an autonomous car. By 2018, Apple registered some self-driving cars with the California regulators. They were even testing them out on the roads, but a natural product release was still years away. A 2020 report from Reuters estimated the release date at 2024, but then things just went quiet again, this time for years. It wasn't until 2022 that we\"), Document(metadata={}, page_content=\"a natural product release was still years away. A 2020 report from Reuters estimated the release date at 2024, but then things just went quiet again, this time for years. It wasn't until 2022 that we really heard anything again. This time, Bloomberg reported that Apple was delaying it again until 2026 and that the car would only go on the highways. Now, 2 years later, and even that was wor in an internal memo, Apple canled the project entirely. The remaining staff working on it were laid off and the whole thing was just shelved indefinitely. Dead companies are obviously no strangers to burning money. Just ask Zuckerberg how his metaverse is coming along. But some reports say Apple spent over 10 billion on the Apple car only to end up with just nothing. And it really puts things into focus. The whole mess sheds light on how Tim Cook has run Apple since becoming CEO over a decade ago. Instead of a unified vision for the future, it's all become too large for him to control. He's been\"), Document(metadata={}, page_content=\"The whole mess sheds light on how Tim Cook has run Apple since becoming CEO over a decade ago. Instead of a unified vision for the future, it's all become too large for him to control. He's been great at extracting value from customers. He's the best in the business of that and it's made his shareholders very happy. But Lee reports and the evidence we've seen paints a picture of a man who's lost control of his company. It especially comes into focus with how badly they botched some of their recent releases. The Vision Pro is an easy example as well. These massively overpriced goggles don't really offer anything in the long term to the average consumer, even if they could afford them. They were never meant to be a mass market product, more of a tech demo for the future possibilities of the product. Even with Apple's signature touch, there were clearly lots of problems to iron out. The biggest is that most people can't wear it for more than half an hour before they feel physically sick\"), Document(metadata={}, page_content=\"product. Even with Apple's signature touch, there were clearly lots of problems to iron out. The biggest is that most people can't wear it for more than half an hour before they feel physically sick or exhausted. Batteries are a huge problem with this as well. Either you just plug it in, wear a charger backpack, or lose all the functionality when you throttle the power usage. And with AI taking center stage as well, and with Ray-B band meta glasses, it's just a product that's very easy for people to forget about. And it all makes you ask, what's really going on within Apple? Well, we know a few of the details and they aren't pretty. A report on Apple's internal workings has shown the world that things have been dysfunctional within Apple for years. For Steve Jobs, Siri was one of his last pet projects. Ever since he saw and bought the company behind the earliest version of Siri, he had believed it was an integral part of the future of the company. Under Tim Cook, Siri was first worked\"), Document(metadata={}, page_content=\"pet projects. Ever since he saw and bought the company behind the earliest version of Siri, he had believed it was an integral part of the future of the company. Under Tim Cook, Siri was first worked on by Apple's AI team. An executive called Robbie Walker ran the day-to-day. And according to insiders, he put much less pressure on the team compared to other parts of Apple. Under him, development crawled along at snail's pace. Sometimes it would change hands. Apparently, the software development team also had a go at working on Siri at some point. But despite this team's reputation as harsh task masters, it doesn't seem like they had any time to make a difference. And as the AI revolution is unfolding in front of our eyes, years of inaction has blown up in Apple's faces. What could have been the future of Siri, which they had ignored for years, was making other companies billions. Apple clearly needed to get ahead in the AI game. But the company was and still is so fractured that they\"), Document(metadata={}, page_content=\"the future of Siri, which they had ignored for years, was making other companies billions. Apple clearly needed to get ahead in the AI game. But the company was and still is so fractured that they haven't gotten anywhere. At WWDC 2024, when Apple showed off all the new features that Siri would apparently have, it surprised the world. Apple intelligence will enable your iPhone, iPad, and Mac to understand and create language as well as images and take action for you to simplify interactions across your apps. But apparently nobody was more surprised than the engineers actually working on Siri. Lots of series AI intelligence was completely faked. Apple has been doing this for years, but it's a real problem when they can't deliver the real thing later on. The engineers actually making a smarter Siri weren't anywhere near finished. They hadn't even tested it yet. There it was front and center of the marketing material. Release was just 2 months away, and they knew they had pretty much\"), Document(metadata={}, page_content=\"Siri weren't anywhere near finished. They hadn't even tested it yet. There it was front and center of the marketing material. Release was just 2 months away, and they knew they had pretty much nothing. Owing to this disaster, the software team are now back in control. But Apple has a long way to go before their AI team is competitive again. And it might actually be too late as lots of other companies have been pouring all of their income into AI. It's now just common for tech companies to poach the smartest engineers and the most effective executives from each other, often using hund00 million pay packages as bait, especially when it comes to AI researchers. And Apple has lost lots of its key engineers just recently as Meta Post two of their best and brightest minds after stealing their boss. It's clear that Apple is absolutely floundering with AI. Lots of people thought their reliance on chatbt was going to be a stop gap, something to tide them over until they came up with their own\"), Document(metadata={}, page_content=\"It's clear that Apple is absolutely floundering with AI. Lots of people thought their reliance on chatbt was going to be a stop gap, something to tide them over until they came up with their own AI. But recent adverts from Apple show that this might just be part of their long-term strategy at this point. Elon Musk threatening to sue Apple over the tech giant's app store ranking for Gro AI chatbot versus OpenAI's chat GPT. Now, and it's this kind of reliance that's going to be crippling for Apple in the future and can actually kill the company as it will undermine all of their AI strategy. The more they use Open AI and Microsoft services in their phones, the less important Apple intelligence seems to their customers. And that's when they start losing control of their crown jewel iOS. Even now, they're advertising their product as a way to use someone else's service. And today, Apple Intelligence is next to useless for the average user. And it doesn't seem like that's going to change\"), Document(metadata={}, page_content=\"now, they're advertising their product as a way to use someone else's service. And today, Apple Intelligence is next to useless for the average user. And it doesn't seem like that's going to change anytime soon. People bought the iPhone 16 specifically for Apple Intelligence. And even with the 17 on the horizon, it still hasn't really released yet. And the question is, how long is it going to be until people just switch to a phone, computer, or tablet actually made by the AI company whose software they use? Already, Johnny Iv is making the stuff open AI. And that's just one relatively small company in the tech space. All of this points to Apple as a company that's good at extracting value from his customers today, but not much else. Now, with everyone banking on AI, Apple is too far behind to ever compete. Years of stagnation have left them unprepared to deal with this and the company is so internally divided that change comes very slowly anyway. Even Apple's most ardent critics\"), Document(metadata={}, page_content=\"behind to ever compete. Years of stagnation have left them unprepared to deal with this and the company is so internally divided that change comes very slowly anyway. Even Apple's most ardent critics shouldn't wish for their demise though. It's good for the ecosystem to have more competitors and different options and losing their customer base and having to work for them again would probably help the company in the long run anyway.\")]\n"
          ]
        }
      ]
    },
    {
      "cell_type": "code",
      "source": [
        "len(chunks)"
      ],
      "metadata": {
        "colab": {
          "base_uri": "https://localhost:8080/"
        },
        "id": "cRRuw2zU69VX",
        "outputId": "b4dc7f77-abfd-4f16-b364-577486457eb0"
      },
      "execution_count": null,
      "outputs": [
        {
          "output_type": "execute_result",
          "data": {
            "text/plain": [
              "30"
            ]
          },
          "metadata": {},
          "execution_count": 54
        }
      ]
    },
    {
      "cell_type": "markdown",
      "source": [
        "## Embedding in Vector store"
      ],
      "metadata": {
        "id": "IY6m6_qA7koP"
      }
    },
    {
      "cell_type": "code",
      "source": [
        "embeddings =  OpenAIEmbeddings(model=\"text-embedding-3-small\")\n",
        "vector_store =  FAISS.from_documents(chunks,embedding=embeddings)"
      ],
      "metadata": {
        "id": "Ci0p64t_7n7w"
      },
      "execution_count": null,
      "outputs": []
    },
    {
      "cell_type": "code",
      "source": [
        "vector_store.index_to_docstore_id"
      ],
      "metadata": {
        "colab": {
          "base_uri": "https://localhost:8080/"
        },
        "id": "n5PtBB0f8EgY",
        "outputId": "618ae5f4-59a8-44dd-d721-b3f298d1895d"
      },
      "execution_count": null,
      "outputs": [
        {
          "output_type": "execute_result",
          "data": {
            "text/plain": [
              "{0: 'ca18d3fe-826c-4fa5-9bfe-b6214b714f32',\n",
              " 1: '8a0c4b2a-7118-49bb-92c2-e08da5e7d71c',\n",
              " 2: '7ed4de7e-135a-4d45-9623-d448f8e90232',\n",
              " 3: 'e50f9913-2eae-40eb-ab56-871b5d37d729',\n",
              " 4: '6c8be239-9354-479e-a4ed-d12d124c3ab4',\n",
              " 5: '896ccc15-a9cc-429d-8b5d-e97e9d3dc447',\n",
              " 6: 'b5fd22b9-167e-472f-a189-3caca2516266',\n",
              " 7: '649fddbc-6567-4339-93eb-1701005ee5a8',\n",
              " 8: '6443c63f-3f9d-4680-b4f7-69a204164cc4',\n",
              " 9: '3d94e650-ec6d-4a69-827d-78b24a0fb7e8',\n",
              " 10: 'eb092dbf-74f0-475c-ad38-5ca364a64c5c',\n",
              " 11: '6818c613-7988-420b-a45d-0fde175258bf',\n",
              " 12: '812fb567-3960-46f0-9695-6f16dbd87970',\n",
              " 13: '18e91205-6739-4f96-bfcf-15f3a684a746',\n",
              " 14: 'c3d8ce13-ba5a-4ae2-868d-45c3bfe0bf2b',\n",
              " 15: '63b00841-7b9a-4915-b6f4-eb25786274aa',\n",
              " 16: 'fa5b25f6-17b5-47f2-bb0d-d9c21173c468',\n",
              " 17: 'da967de0-652f-40ac-936d-351600e39d8c',\n",
              " 18: 'b719feda-1aed-40dd-91b6-54772fa16b66',\n",
              " 19: 'e5ff1756-7339-4bc8-bbca-b813c92e855a',\n",
              " 20: '86c8aa60-8c45-41dc-a8ea-ce9e7063994a',\n",
              " 21: '836ff5cb-f9fc-4555-bbdd-91561ffb81b2',\n",
              " 22: 'a9667aab-2a2c-4954-a7a6-2530c6b06066',\n",
              " 23: '838fdf75-0f7f-46a0-845f-74028edc397d',\n",
              " 24: 'e0c554db-a0b8-4d31-8e31-cca941a37fbb',\n",
              " 25: 'dc5ae37b-6b2d-4095-ac84-d0e9da90032b',\n",
              " 26: '4476f3e9-e5a5-4e07-8668-f85959cccc3c',\n",
              " 27: '88d23114-9827-4493-b7a6-916c597bfdc1',\n",
              " 28: '75e1217c-db63-4447-8e5f-e60ddfee4163',\n",
              " 29: 'af889a73-815f-4747-b329-85cb0fc3adbb'}"
            ]
          },
          "metadata": {},
          "execution_count": 87
        }
      ]
    },
    {
      "cell_type": "code",
      "source": [
        "vector_store.get_by_ids([\"ca18d3fe-826c-4fa5-9bfe-b6214b714f32\"])"
      ],
      "metadata": {
        "colab": {
          "base_uri": "https://localhost:8080/"
        },
        "id": "dPwC5uXC8W2V",
        "outputId": "b564f735-2822-4313-9096-f8b5f2147036"
      },
      "execution_count": null,
      "outputs": [
        {
          "output_type": "execute_result",
          "data": {
            "text/plain": [
              "[Document(id='ca18d3fe-826c-4fa5-9bfe-b6214b714f32', metadata={}, page_content=\"The fate of all tech companies will now be decided by their AI capabilities. Google CEO thinks that AI is the most profound technology humanity is working on, more profound than fire or electricity or anything that we have done in the past. Microsoft CEO said that with AI, we are going to go to the next level of abstraction. Zuckerberg's even spending billions poaching the best AI researchers to work on their own AI replacements. We are trying to build a coding agent that basically advances llama research specifically. I would guess that like sometime in the next 12 to 18 months, we'll reach the point where like most of the code that's going towards these efforts is written by AI. It's clear that big tech is having a competition over whose language model is the largest because the race to AGI will define everything in the future. They're so sure of this that these CEOs are now spending hundreds of billions building data centers and poaching top researchers all just to get a leg up in\")]"
            ]
          },
          "metadata": {},
          "execution_count": 88
        }
      ]
    },
    {
      "cell_type": "markdown",
      "source": [
        "## Retrieval"
      ],
      "metadata": {
        "id": "5tBPhXmM8wLA"
      }
    },
    {
      "cell_type": "code",
      "source": [
        "retriever =  vector_store.as_retriever(search_type=\"mmr\",search_kwargs={\"k\" : 2})"
      ],
      "metadata": {
        "id": "pjqngEhw80WV"
      },
      "execution_count": null,
      "outputs": []
    },
    {
      "cell_type": "code",
      "source": [
        "retriever.invoke(\"what is the meaning of life\")"
      ],
      "metadata": {
        "colab": {
          "base_uri": "https://localhost:8080/"
        },
        "id": "Wu5eFg7J9BCk",
        "outputId": "444bc53c-243f-4428-ad9d-2faaf09620b8"
      },
      "execution_count": null,
      "outputs": [
        {
          "output_type": "execute_result",
          "data": {
            "text/plain": [
              "[Document(id='b5fd22b9-167e-472f-a189-3caca2516266', metadata={}, page_content=\"someone sent you without scrolling back through the messages? Siri had the answer. Need to reach into your phone and find some old documents or details from years ago? Siri would know how to navigate through it all, down to the names of people in your photos. New contextual awareness meant that Siri was going to be like an actual person inside of your phone who would understand any question you asked it. Even if it didn't have the answer, it could just pass it on to Chat GBT instead. all securely and without sharing your data. Of course, people were hyped up. Apple had promised their loyal fans the world. They weren't going to let them down, right? Apple even made it the biggest selling point of their next line of phones. Only the previous years as pros models in the iPhone 16 series would have Apple intelligence, and Apple's built an entire brand on trust and loyalty. And the best part was fans didn't have to wait long. The conference was in June, and they had seen it all working\"),\n",
              " Document(id='ca18d3fe-826c-4fa5-9bfe-b6214b714f32', metadata={}, page_content=\"The fate of all tech companies will now be decided by their AI capabilities. Google CEO thinks that AI is the most profound technology humanity is working on, more profound than fire or electricity or anything that we have done in the past. Microsoft CEO said that with AI, we are going to go to the next level of abstraction. Zuckerberg's even spending billions poaching the best AI researchers to work on their own AI replacements. We are trying to build a coding agent that basically advances llama research specifically. I would guess that like sometime in the next 12 to 18 months, we'll reach the point where like most of the code that's going towards these efforts is written by AI. It's clear that big tech is having a competition over whose language model is the largest because the race to AGI will define everything in the future. They're so sure of this that these CEOs are now spending hundreds of billions building data centers and poaching top researchers all just to get a leg up in\")]"
            ]
          },
          "metadata": {},
          "execution_count": 98
        }
      ]
    },
    {
      "cell_type": "markdown",
      "source": [
        "## Augmentation"
      ],
      "metadata": {
        "id": "FbGrjpgi9VB0"
      }
    },
    {
      "cell_type": "code",
      "source": [
        "llm =  ChatOpenAI(model=\"gpt-4o-mini\",temperature=0.2)"
      ],
      "metadata": {
        "id": "3ibAWR7D9YHj"
      },
      "execution_count": null,
      "outputs": []
    },
    {
      "cell_type": "code",
      "source": [
        "prompt =  PromptTemplate(\n",
        "    template= \"\"\"\n",
        "      You are a helpful assistant\n",
        "      Answer ONLY from provided transcript context.\n",
        "      If the context is insufficient, just say you don't know.\n",
        "\n",
        "      {context}\n",
        "      question: {question}\n",
        "    \"\"\",\n",
        "    input_variables=['context', 'question']\n",
        ")"
      ],
      "metadata": {
        "id": "gaLsj_I99hDz"
      },
      "execution_count": null,
      "outputs": []
    },
    {
      "cell_type": "code",
      "source": [
        "question          = \"what did the google ceo say about ai\"\n",
        "retrieved_docs    = retriever.invoke(question)"
      ],
      "metadata": {
        "id": "TcUcYm5Q9k76"
      },
      "execution_count": null,
      "outputs": []
    },
    {
      "cell_type": "code",
      "source": [
        "retrieved_docs"
      ],
      "metadata": {
        "colab": {
          "base_uri": "https://localhost:8080/"
        },
        "id": "yQ5DboKH-I-k",
        "outputId": "86a82b9a-5d7b-4c0e-a347-18bd321e47a0"
      },
      "execution_count": null,
      "outputs": [
        {
          "output_type": "execute_result",
          "data": {
            "text/plain": [
              "[Document(id='ca18d3fe-826c-4fa5-9bfe-b6214b714f32', metadata={}, page_content=\"The fate of all tech companies will now be decided by their AI capabilities. Google CEO thinks that AI is the most profound technology humanity is working on, more profound than fire or electricity or anything that we have done in the past. Microsoft CEO said that with AI, we are going to go to the next level of abstraction. Zuckerberg's even spending billions poaching the best AI researchers to work on their own AI replacements. We are trying to build a coding agent that basically advances llama research specifically. I would guess that like sometime in the next 12 to 18 months, we'll reach the point where like most of the code that's going towards these efforts is written by AI. It's clear that big tech is having a competition over whose language model is the largest because the race to AGI will define everything in the future. They're so sure of this that these CEOs are now spending hundreds of billions building data centers and poaching top researchers all just to get a leg up in\"),\n",
              " Document(id='3d94e650-ec6d-4a69-827d-78b24a0fb7e8', metadata={}, page_content=\"people had already seen from other companies. In fact, visual intelligence actually used Google and chatg to function at all. Literally one of Apple's main competitors. But lots of other features were just simply missing. Genoji and Image Creator would only release in December of that year. Priority notifications was even slower. finally releasing in March of 2025. Then you had the related notification summaries. They were in there from the start, but they were also hilariously broken. Millions of people using the new feature received this notification from Apple News shortly after launch. And it wasn't the only case. Apple disabled the feature shortly afterwards. But all of that was just water under the bridge as long as AI Siri worked. But that feature, the one that so many commercials had leaned on that they had used to sell millions of iPhones, just seemingly was nowhere to be found. Almost insultingly, the only part of it they had released was the colorful redesign for activating\")]"
            ]
          },
          "metadata": {},
          "execution_count": 108
        }
      ]
    },
    {
      "cell_type": "code",
      "source": [
        "contetxt = \"\\n|n\".join(doc.page_content for doc in retrieved_docs)"
      ],
      "metadata": {
        "id": "aqUnBFfoMIik"
      },
      "execution_count": null,
      "outputs": []
    },
    {
      "cell_type": "code",
      "source": [
        "final_prompt =  prompt.invoke({'context':contetxt, 'question': question})"
      ],
      "metadata": {
        "id": "b7a8HUO9MUTY"
      },
      "execution_count": null,
      "outputs": []
    },
    {
      "cell_type": "code",
      "source": [
        "final_prompt"
      ],
      "metadata": {
        "colab": {
          "base_uri": "https://localhost:8080/"
        },
        "id": "Ea0kumB6MlFp",
        "outputId": "0f97818b-4acb-44b7-aa08-c3e92e9aed7a"
      },
      "execution_count": null,
      "outputs": [
        {
          "output_type": "execute_result",
          "data": {
            "text/plain": [
              "StringPromptValue(text=\"\\n      You are a helpful assistant\\n      Answer ONLY from provided transcript context.\\n      If the context is insufficient, just say you don't know.\\n\\n      The fate of all tech companies will now be decided by their AI capabilities. Google CEO thinks that AI is the most profound technology humanity is working on, more profound than fire or electricity or anything that we have done in the past. Microsoft CEO said that with AI, we are going to go to the next level of abstraction. Zuckerberg's even spending billions poaching the best AI researchers to work on their own AI replacements. We are trying to build a coding agent that basically advances llama research specifically. I would guess that like sometime in the next 12 to 18 months, we'll reach the point where like most of the code that's going towards these efforts is written by AI. It's clear that big tech is having a competition over whose language model is the largest because the race to AGI will define everything in the future. They're so sure of this that these CEOs are now spending hundreds of billions building data centers and poaching top researchers all just to get a leg up in\\n|npeople had already seen from other companies. In fact, visual intelligence actually used Google and chatg to function at all. Literally one of Apple's main competitors. But lots of other features were just simply missing. Genoji and Image Creator would only release in December of that year. Priority notifications was even slower. finally releasing in March of 2025. Then you had the related notification summaries. They were in there from the start, but they were also hilariously broken. Millions of people using the new feature received this notification from Apple News shortly after launch. And it wasn't the only case. Apple disabled the feature shortly afterwards. But all of that was just water under the bridge as long as AI Siri worked. But that feature, the one that so many commercials had leaned on that they had used to sell millions of iPhones, just seemingly was nowhere to be found. Almost insultingly, the only part of it they had released was the colorful redesign for activating\\n      question: what did the google ceo say about ai\\n    \")"
            ]
          },
          "metadata": {},
          "execution_count": 111
        }
      ]
    },
    {
      "cell_type": "code",
      "source": [
        "ans =  llm.invoke(final_prompt)\n",
        "print(ans)"
      ],
      "metadata": {
        "colab": {
          "base_uri": "https://localhost:8080/"
        },
        "id": "xI4d3uN8MhNJ",
        "outputId": "88c7217e-11f8-4e79-fe38-3ed735034025"
      },
      "execution_count": null,
      "outputs": [
        {
          "output_type": "stream",
          "name": "stdout",
          "text": [
            "content='The Google CEO thinks that AI is the most profound technology humanity is working on, more profound than fire or electricity or anything that we have done in the past.' additional_kwargs={'refusal': None} response_metadata={'token_usage': {'completion_tokens': 32, 'prompt_tokens': 441, 'total_tokens': 473, 'completion_tokens_details': {'accepted_prediction_tokens': 0, 'audio_tokens': 0, 'reasoning_tokens': 0, 'rejected_prediction_tokens': 0}, 'prompt_tokens_details': {'audio_tokens': 0, 'cached_tokens': 0}}, 'model_name': 'gpt-4o-mini-2024-07-18', 'system_fingerprint': 'fp_560af6e559', 'id': 'chatcmpl-C4hH5WdwTYWrkMbPkLi0ZeKKunM4W', 'service_tier': 'default', 'finish_reason': 'stop', 'logprobs': None} id='run--01be135b-2c4b-48c6-a05a-86b6e8709669-0' usage_metadata={'input_tokens': 441, 'output_tokens': 32, 'total_tokens': 473, 'input_token_details': {'audio': 0, 'cache_read': 0}, 'output_token_details': {'audio': 0, 'reasoning': 0}}\n"
          ]
        }
      ]
    },
    {
      "cell_type": "markdown",
      "source": [
        "## **Using chains**"
      ],
      "metadata": {
        "id": "p5IWfC1aNwb4"
      }
    },
    {
      "cell_type": "code",
      "source": [
        "from langchain_core.runnables import RunnableParallel, RunnablePassthrough, RunnableLambda\n",
        "from langchain_core.output_parsers import StrOutputParser\n"
      ],
      "metadata": {
        "id": "gRXbPClkNv82"
      },
      "execution_count": null,
      "outputs": []
    },
    {
      "cell_type": "code",
      "source": [
        "def format_docs(retrieved_docs):\n",
        "  context_text = \"\\n|n\".join(docs.page_content for docs in retrieved_docs)\n",
        "  return context_text"
      ],
      "metadata": {
        "id": "dZ7RQQ55N_Xf"
      },
      "execution_count": null,
      "outputs": []
    },
    {
      "cell_type": "markdown",
      "source": [
        "chain-1 for adding the context"
      ],
      "metadata": {
        "id": "b2Q0u6-sOQoW"
      }
    },
    {
      "cell_type": "code",
      "source": [
        "parallel_chain  =  RunnableParallel(\n",
        "    {'context' : retriever | RunnableLambda(format_docs),\n",
        "    'question' : RunnablePassthrough()}\n",
        ")"
      ],
      "metadata": {
        "id": "9AnjV4pMOQcD"
      },
      "execution_count": null,
      "outputs": []
    },
    {
      "cell_type": "code",
      "source": [
        "parser =  StrOutputParser()"
      ],
      "metadata": {
        "id": "WvpLhYXnO9Gz"
      },
      "execution_count": null,
      "outputs": []
    },
    {
      "cell_type": "code",
      "source": [
        "chain =  parallel_chain | prompt | llm | parser"
      ],
      "metadata": {
        "id": "jfoAcJKhO_m0"
      },
      "execution_count": null,
      "outputs": []
    },
    {
      "cell_type": "code",
      "source": [
        "chain.invoke(\"Summarize the video\")"
      ],
      "metadata": {
        "colab": {
          "base_uri": "https://localhost:8080/",
          "height": 128
        },
        "id": "WyrsZ4oEPEB-",
        "outputId": "2d520cc7-8288-4e4e-a8e4-e00e454baeb8"
      },
      "execution_count": null,
      "outputs": [
        {
          "output_type": "execute_result",
          "data": {
            "text/plain": [
              "\"The video discusses Apple's brand built on trust and loyalty, highlighting the quick release of new technology following a June conference. It introduces video AI as a revolutionary tool for video creation, allowing users to generate full-length videos easily with just a text prompt, eliminating the need for cameras or editing. The video also critiques Tim Cook's leadership at Apple, suggesting he has lost control over the company and its vision, particularly in light of recent product failures like the Vision Pro goggles, which are seen as overpriced and impractical for average consumers.\""
            ],
            "application/vnd.google.colaboratory.intrinsic+json": {
              "type": "string"
            }
          },
          "metadata": {},
          "execution_count": 139
        }
      ]
    }
  ]
}